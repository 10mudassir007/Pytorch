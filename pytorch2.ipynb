{
  "nbformat": 4,
  "nbformat_minor": 0,
  "metadata": {
    "colab": {
      "provenance": []
    },
    "kernelspec": {
      "name": "python3",
      "display_name": "Python 3"
    },
    "language_info": {
      "name": "python"
    }
  },
  "cells": [
    {
      "cell_type": "code",
      "execution_count": null,
      "metadata": {
        "colab": {
          "base_uri": "https://localhost:8080/"
        },
        "id": "1S0ztTYjoFAL",
        "outputId": "6b989478-ad42-4aef-995b-a13be473b6cb"
      },
      "outputs": [
        {
          "output_type": "stream",
          "name": "stdout",
          "text": [
            "Name: torch\n",
            "Version: 2.5.0+cu121\n",
            "Summary: Tensors and Dynamic neural networks in Python with strong GPU acceleration\n",
            "Home-page: https://pytorch.org/\n",
            "Author: PyTorch Team\n",
            "Author-email: packages@pytorch.org\n",
            "License: BSD-3-Clause\n",
            "Location: /usr/local/lib/python3.10/dist-packages\n",
            "Requires: filelock, fsspec, jinja2, networkx, sympy, typing-extensions\n",
            "Required-by: accelerate, fastai, peft, sentence-transformers, timm, torchaudio, torchvision\n",
            "---\n",
            "Name: tensorflow\n",
            "Version: 2.17.0\n",
            "Summary: TensorFlow is an open source machine learning framework for everyone.\n",
            "Home-page: https://www.tensorflow.org/\n",
            "Author: Google Inc.\n",
            "Author-email: packages@tensorflow.org\n",
            "License: Apache 2.0\n",
            "Location: /usr/local/lib/python3.10/dist-packages\n",
            "Requires: absl-py, astunparse, flatbuffers, gast, google-pasta, grpcio, h5py, keras, libclang, ml-dtypes, numpy, opt-einsum, packaging, protobuf, requests, setuptools, six, tensorboard, tensorflow-io-gcs-filesystem, termcolor, typing-extensions, wrapt\n",
            "Required-by: dopamine_rl, tf_keras\n"
          ]
        }
      ],
      "source": [
        "!pip show torch tensorflow"
      ]
    },
    {
      "cell_type": "code",
      "source": [
        "import torch\n",
        "import torchvision\n",
        "from torchvision.datasets import MNIST"
      ],
      "metadata": {
        "id": "ODoeuB0BqSl7"
      },
      "execution_count": null,
      "outputs": []
    },
    {
      "cell_type": "code",
      "source": [
        "dataset = MNIST(root=\"data/\",download=True)"
      ],
      "metadata": {
        "id": "pVWmaMj7qekL"
      },
      "execution_count": null,
      "outputs": []
    },
    {
      "cell_type": "code",
      "source": [
        "dataset"
      ],
      "metadata": {
        "colab": {
          "base_uri": "https://localhost:8080/"
        },
        "id": "Xfa0FrJ5qqC4",
        "outputId": "9bca8d21-1e25-4aa8-824f-da33d64ae88e"
      },
      "execution_count": null,
      "outputs": [
        {
          "output_type": "execute_result",
          "data": {
            "text/plain": [
              "Dataset MNIST\n",
              "    Number of datapoints: 60000\n",
              "    Root location: data/\n",
              "    Split: Train"
            ]
          },
          "metadata": {},
          "execution_count": 100
        }
      ]
    },
    {
      "cell_type": "markdown",
      "source": [],
      "metadata": {
        "id": "Bj3Q1dUnEBmI"
      }
    },
    {
      "cell_type": "code",
      "source": [
        "test_ds = MNIST(root=\"data/\",train=False)"
      ],
      "metadata": {
        "id": "GeXJgmutqw4o"
      },
      "execution_count": null,
      "outputs": []
    },
    {
      "cell_type": "code",
      "source": [
        "test_ds"
      ],
      "metadata": {
        "colab": {
          "base_uri": "https://localhost:8080/"
        },
        "id": "VwaOycWprZeK",
        "outputId": "88b3baeb-1f27-4915-8628-cc32f3bbb46e"
      },
      "execution_count": null,
      "outputs": [
        {
          "output_type": "execute_result",
          "data": {
            "text/plain": [
              "Dataset MNIST\n",
              "    Number of datapoints: 10000\n",
              "    Root location: data/\n",
              "    Split: Test"
            ]
          },
          "metadata": {},
          "execution_count": 102
        }
      ]
    },
    {
      "cell_type": "code",
      "source": [
        "dataset[0]"
      ],
      "metadata": {
        "colab": {
          "base_uri": "https://localhost:8080/"
        },
        "id": "u08JHUu8ra-4",
        "outputId": "a351155e-7bfb-4ed6-ef4d-5ebefe9e1780"
      },
      "execution_count": null,
      "outputs": [
        {
          "output_type": "execute_result",
          "data": {
            "text/plain": [
              "(<PIL.Image.Image image mode=L size=28x28>, 5)"
            ]
          },
          "metadata": {},
          "execution_count": 103
        }
      ]
    },
    {
      "cell_type": "code",
      "source": [
        "import matplotlib.pyplot as plt\n",
        "%matplotlib inline"
      ],
      "metadata": {
        "id": "BI6igPDAri0Y"
      },
      "execution_count": null,
      "outputs": []
    },
    {
      "cell_type": "code",
      "source": [
        "image,label = dataset[0]\n",
        "plt.figure()\n",
        "plt.title(f\"{label}\")\n",
        "plt.imshow(image,cmap='gray')"
      ],
      "metadata": {
        "colab": {
          "base_uri": "https://localhost:8080/",
          "height": 470
        },
        "id": "dHFclMrUrs4o",
        "outputId": "6ed1e7da-6397-4fe3-ab64-28821a1851a6"
      },
      "execution_count": null,
      "outputs": [
        {
          "output_type": "execute_result",
          "data": {
            "text/plain": [
              "<matplotlib.image.AxesImage at 0x78bf9a9c97e0>"
            ]
          },
          "metadata": {},
          "execution_count": 105
        },
        {
          "output_type": "display_data",
          "data": {
            "text/plain": [
              "<Figure size 640x480 with 1 Axes>"
            ],
            "image/png": "[encoded data removed]"
          },
          "metadata": {}
        }
      ]
    },
    {
      "cell_type": "code",
      "source": [
        "import torchvision.transforms as transformer"
      ],
      "metadata": {
        "id": "tGKRNZ2ir83Y"
      },
      "execution_count": null,
      "outputs": []
    },
    {
      "cell_type": "code",
      "source": [
        "dataset = MNIST(root=\"data/\",\n",
        "                train=True,\n",
        "                transform=transformer.ToTensor())"
      ],
      "metadata": {
        "id": "dh-Hu4B0sTeo"
      },
      "execution_count": null,
      "outputs": []
    },
    {
      "cell_type": "code",
      "source": [
        "img,label = dataset[0]\n",
        "img.shape,label"
      ],
      "metadata": {
        "colab": {
          "base_uri": "https://localhost:8080/"
        },
        "id": "227maWILse14",
        "outputId": "e864b83b-b3c4-4483-e3d4-45a876aa1bae"
      },
      "execution_count": null,
      "outputs": [
        {
          "output_type": "execute_result",
          "data": {
            "text/plain": [
              "(torch.Size([1, 28, 28]), 5)"
            ]
          },
          "metadata": {},
          "execution_count": 108
        }
      ]
    },
    {
      "cell_type": "code",
      "source": [
        "img[:,10:15,10:15]"
      ],
      "metadata": {
        "colab": {
          "base_uri": "https://localhost:8080/"
        },
        "id": "CbFDNDFfsv2o",
        "outputId": "6b2d14ae-d131-41f5-d813-03bdf41c140e"
      },
      "execution_count": null,
      "outputs": [
        {
          "output_type": "execute_result",
          "data": {
            "text/plain": [
              "tensor([[[0.0039, 0.6039, 0.9922, 0.3529, 0.0000],\n",
              "         [0.0000, 0.5451, 0.9922, 0.7451, 0.0078],\n",
              "         [0.0000, 0.0431, 0.7451, 0.9922, 0.2745],\n",
              "         [0.0000, 0.0000, 0.1373, 0.9451, 0.8824],\n",
              "         [0.0000, 0.0000, 0.0000, 0.3176, 0.9412]]])"
            ]
          },
          "metadata": {},
          "execution_count": 109
        }
      ]
    },
    {
      "cell_type": "code",
      "source": [
        "torch.max(img),torch.min(img)"
      ],
      "metadata": {
        "colab": {
          "base_uri": "https://localhost:8080/"
        },
        "id": "UUYHHDMnsyyo",
        "outputId": "aa6ed87a-c003-4315-e5d9-bb8f2261cdc3"
      },
      "execution_count": null,
      "outputs": [
        {
          "output_type": "execute_result",
          "data": {
            "text/plain": [
              "(tensor(1.), tensor(0.))"
            ]
          },
          "metadata": {},
          "execution_count": 110
        }
      ]
    },
    {
      "cell_type": "code",
      "source": [
        "from torch.utils.data import random_split\n",
        "\n",
        "train_ds,val_ds = random_split(dataset,[50000,10000])\n",
        "len(train_ds),len(val_ds)"
      ],
      "metadata": {
        "colab": {
          "base_uri": "https://localhost:8080/"
        },
        "id": "LHH-ToQ9uRQH",
        "outputId": "d1784ee7-1155-43ff-9be3-17be02380da5"
      },
      "execution_count": null,
      "outputs": [
        {
          "output_type": "execute_result",
          "data": {
            "text/plain": [
              "(50000, 10000)"
            ]
          },
          "metadata": {},
          "execution_count": 111
        }
      ]
    },
    {
      "cell_type": "code",
      "source": [
        "from torch.utils.data import DataLoader\n",
        "\n",
        "batch_size = 128\n",
        "\n",
        "train_loader = DataLoader(train_ds,batch_size,shuffle=True)\n",
        "val_loader = DataLoader(val_ds,batch_size)"
      ],
      "metadata": {
        "id": "HtWIGMiYufcG"
      },
      "execution_count": null,
      "outputs": []
    },
    {
      "cell_type": "code",
      "source": [
        "train_loader"
      ],
      "metadata": {
        "colab": {
          "base_uri": "https://localhost:8080/"
        },
        "id": "lEmtGuWOXU89",
        "outputId": "169df54f-3539-43ef-c033-0592aad6ef1c"
      },
      "execution_count": null,
      "outputs": [
        {
          "output_type": "execute_result",
          "data": {
            "text/plain": [
              "<torch.utils.data.dataloader.DataLoader at 0x78bf9ab52ce0>"
            ]
          },
          "metadata": {},
          "execution_count": 113
        }
      ]
    },
    {
      "cell_type": "code",
      "source": [
        "import torch.nn as fnn\n",
        "\n",
        "img_size = 28*28\n",
        "classes = 10\n",
        "\n",
        "model = fnn.Linear(img_size,classes)"
      ],
      "metadata": {
        "id": "Zd-VJnPgXp3M"
      },
      "execution_count": null,
      "outputs": []
    },
    {
      "cell_type": "code",
      "source": [
        "model.weight.shape"
      ],
      "metadata": {
        "colab": {
          "base_uri": "https://localhost:8080/"
        },
        "id": "oUsWi1Kb7Evq",
        "outputId": "6d312bc2-b47f-49b6-bf1a-bb8c4a39f3b4"
      },
      "execution_count": null,
      "outputs": [
        {
          "output_type": "execute_result",
          "data": {
            "text/plain": [
              "torch.Size([10, 784])"
            ]
          },
          "metadata": {},
          "execution_count": 115
        }
      ]
    },
    {
      "cell_type": "code",
      "source": [
        "class FNN(fnn.Module):\n",
        "  def __init__(self):\n",
        "    super().__init__()\n",
        "    self.linear = fnn.Linear(img_size,classes)\n",
        "\n",
        "  def forward(self,xb):\n",
        "    xb = xb.reshape(-1,784)\n",
        "    out = self.linear(xb)\n",
        "    return out\n",
        "model = FNN()"
      ],
      "metadata": {
        "id": "mHTCAbMk7GNo"
      },
      "execution_count": null,
      "outputs": []
    },
    {
      "cell_type": "code",
      "source": [
        "list(model.parameters())"
      ],
      "metadata": {
        "colab": {
          "base_uri": "https://localhost:8080/"
        },
        "id": "YMXWN5OZ7oDI",
        "outputId": "0b1b7637-f20c-4cc8-8b08-0f68fcc788a9"
      },
      "execution_count": null,
      "outputs": [
        {
          "output_type": "execute_result",
          "data": {
            "text/plain": [
              "[Parameter containing:\n",
              " tensor([[-0.0236, -0.0181,  0.0106,  ..., -0.0123, -0.0104, -0.0191],\n",
              "         [-0.0053, -0.0111,  0.0011,  ...,  0.0070,  0.0199,  0.0218],\n",
              "         [-0.0326, -0.0332,  0.0337,  ..., -0.0216, -0.0316,  0.0192],\n",
              "         ...,\n",
              "         [ 0.0304,  0.0174,  0.0147,  ..., -0.0189, -0.0186,  0.0093],\n",
              "         [ 0.0170,  0.0290, -0.0179,  ...,  0.0063,  0.0014, -0.0334],\n",
              "         [ 0.0236, -0.0079, -0.0301,  ..., -0.0305,  0.0276, -0.0086]],\n",
              "        requires_grad=True),\n",
              " Parameter containing:\n",
              " tensor([ 0.0257, -0.0225,  0.0196,  0.0232, -0.0008, -0.0215,  0.0321,  0.0138,\n",
              "         -0.0227, -0.0185], requires_grad=True)]"
            ]
          },
          "metadata": {},
          "execution_count": 117
        }
      ]
    },
    {
      "cell_type": "code",
      "source": [
        "for imgs,labels in train_loader:\n",
        "  outputs = model(imgs)\n",
        "  break"
      ],
      "metadata": {
        "id": "Otq6XeKX8riH"
      },
      "execution_count": null,
      "outputs": []
    },
    {
      "cell_type": "code",
      "source": [
        "torch.exp(outputs[0]) / torch.sum(torch.exp(outputs[0]))"
      ],
      "metadata": {
        "colab": {
          "base_uri": "https://localhost:8080/"
        },
        "id": "hB3KpPRY87gY",
        "outputId": "91461035-90ab-4077-a7ea-768350d08c54"
      },
      "execution_count": null,
      "outputs": [
        {
          "output_type": "execute_result",
          "data": {
            "text/plain": [
              "tensor([0.1164, 0.0918, 0.0768, 0.0974, 0.1278, 0.0904, 0.1239, 0.0914, 0.1095,\n",
              "        0.0747], grad_fn=<DivBackward0>)"
            ]
          },
          "metadata": {},
          "execution_count": 119
        }
      ]
    },
    {
      "cell_type": "code",
      "source": [
        "import torch.nn.functional as F"
      ],
      "metadata": {
        "id": "-Kt8jqn-89GI"
      },
      "execution_count": null,
      "outputs": []
    },
    {
      "cell_type": "code",
      "source": [
        "prob = F.softmax(outputs,dim=1)\n"
      ],
      "metadata": {
        "id": "nHyMB5En9mh3"
      },
      "execution_count": null,
      "outputs": []
    },
    {
      "cell_type": "code",
      "source": [
        "maxes,preds = torch.max(prob,dim=1)"
      ],
      "metadata": {
        "id": "e5wi4Zqg9qW3"
      },
      "execution_count": null,
      "outputs": []
    },
    {
      "cell_type": "code",
      "source": [
        "def accuracy(outputs,labels):\n",
        "  _,preds = torch.max(outputs,dim=1)\n",
        "  return torch.tensor(torch.sum(preds == labels).item()/len(preds))"
      ],
      "metadata": {
        "id": "SfDKTAvy90C3"
      },
      "execution_count": null,
      "outputs": []
    },
    {
      "cell_type": "code",
      "source": [
        "accuracy(outputs,labels)"
      ],
      "metadata": {
        "colab": {
          "base_uri": "https://localhost:8080/"
        },
        "id": "QKdzAJYz95j3",
        "outputId": "ab611a58-8b63-4d26-cf18-088a1c99994c"
      },
      "execution_count": null,
      "outputs": [
        {
          "output_type": "execute_result",
          "data": {
            "text/plain": [
              "tensor(0.0391)"
            ]
          },
          "metadata": {},
          "execution_count": 124
        }
      ]
    },
    {
      "cell_type": "code",
      "source": [
        "loss_fn = F.cross_entropy\n",
        "loss = loss_fn(outputs,labels)"
      ],
      "metadata": {
        "id": "bm5FR2fJ-ZEX"
      },
      "execution_count": null,
      "outputs": []
    },
    {
      "cell_type": "code",
      "source": [
        "loss"
      ],
      "metadata": {
        "colab": {
          "base_uri": "https://localhost:8080/"
        },
        "id": "gBqFkT9E-rZ3",
        "outputId": "1e1468fe-9337-4f41-9d0d-7f182b6554ad"
      },
      "execution_count": null,
      "outputs": [
        {
          "output_type": "execute_result",
          "data": {
            "text/plain": [
              "tensor(2.3787, grad_fn=<NllLossBackward0>)"
            ]
          },
          "metadata": {},
          "execution_count": 126
        }
      ]
    },
    {
      "cell_type": "code",
      "source": [
        "class FNN(fnn.Module):\n",
        "  def __init__(self):\n",
        "    super().__init__()\n",
        "    self.linear = fnn.Linear(img_size,classes)\n",
        "\n",
        "  def forward(self,xb):\n",
        "    xb = xb.reshape(-1,784)\n",
        "    out = self.linear(xb)\n",
        "    return out\n",
        "\n",
        "  def training_step(self,batch):\n",
        "    images,labels = batch\n",
        "    out = self(images)\n",
        "    loss = F.cross_entropy(out,labels)\n",
        "    return loss\n",
        "\n",
        "  def validation_step(self,batch):\n",
        "    images,labels = batch\n",
        "    out = self(images)\n",
        "    loss = F.cross_entropy(out,labels)\n",
        "    acc = accuracy(out,labels)\n",
        "    return {'val_acc':acc,'val_loss':loss}\n",
        "\n",
        "  def validation_epoch_end(self,outputs):\n",
        "    batch_losses = [x['val_loss'] for x in outputs]\n",
        "    epoch_loss = torch.stack(batch_losses).mean()\n",
        "    batch_accs = [x['val_acc'] for x in outputs ]\n",
        "    epoch_acc = torch.stack(batch_accs).mean()\n",
        "    return {'val_loss': epoch_loss.item(),'val_acc':epoch_acc.item()}\n",
        "\n",
        "  def epoch_end(self,epoch,res):\n",
        "    print(f\"Epoch {epoch},val_loss:{res['val_loss']},val_acc:{res['val_acc']}\")\n",
        "model = FNN()"
      ],
      "metadata": {
        "id": "BXQvtNX2-ruX"
      },
      "execution_count": null,
      "outputs": []
    },
    {
      "cell_type": "code",
      "source": [
        "def eval(model,val_loader):\n",
        "  outputs = [model.validation_step(batch) for batch in val_loader]\n",
        "  return model.validation_epoch_end(outputs)\n",
        "def fit(epochs,lr,model,train_loader,val_loader,opt=torch.optim.SGD):\n",
        "  history = []\n",
        "  optimizer = opt(model.parameters(),lr)\n",
        "  for epoch in range(epochs):\n",
        "    for batch in train_loader:\n",
        "      loss = model.training_step(batch)\n",
        "      loss.backward()\n",
        "      optimizer.step()\n",
        "      optimizer.zero_grad()\n",
        "    result = eval(model,val_loader)\n",
        "    model.epoch_end(epoch,result)\n",
        "    history.append(result)\n",
        "  return history"
      ],
      "metadata": {
        "id": "7v6SJ1nvAeqH"
      },
      "execution_count": null,
      "outputs": []
    },
    {
      "cell_type": "code",
      "source": [
        "res = eval(model,val_loader)"
      ],
      "metadata": {
        "id": "yf20ZSgMAwEH"
      },
      "execution_count": null,
      "outputs": []
    },
    {
      "cell_type": "code",
      "source": [
        "res"
      ],
      "metadata": {
        "colab": {
          "base_uri": "https://localhost:8080/"
        },
        "id": "XV8LvbSmCTI2",
        "outputId": "9c5afba1-1fbe-4788-b35e-d343eecd1226"
      },
      "execution_count": null,
      "outputs": [
        {
          "output_type": "execute_result",
          "data": {
            "text/plain": [
              "{'val_loss': 2.3248026371002197, 'val_acc': 0.09869462251663208}"
            ]
          },
          "metadata": {},
          "execution_count": 130
        }
      ]
    },
    {
      "cell_type": "code",
      "source": [
        "hist = fit(5,0.001,model,train_loader,val_loader)\n",
        "hist"
      ],
      "metadata": {
        "colab": {
          "base_uri": "https://localhost:8080/"
        },
        "id": "PXwMlBjKCg1m",
        "outputId": "c483a242-e278-4d30-f09e-325abddd9576"
      },
      "execution_count": null,
      "outputs": [
        {
          "output_type": "stream",
          "name": "stdout",
          "text": [
            "Epoch 0,val_loss:1.9616382122039795,val_acc:0.6157041192054749\n",
            "Epoch 1,val_loss:1.6910977363586426,val_acc:0.7215189933776855\n",
            "Epoch 2,val_loss:1.4888052940368652,val_acc:0.7556368708610535\n",
            "Epoch 3,val_loss:1.3362276554107666,val_acc:0.7772942781448364\n",
            "Epoch 4,val_loss:1.2190616130828857,val_acc:0.7881724834442139\n"
          ]
        },
        {
          "output_type": "execute_result",
          "data": {
            "text/plain": [
              "[{'val_loss': 1.9616382122039795, 'val_acc': 0.6157041192054749},\n",
              " {'val_loss': 1.6910977363586426, 'val_acc': 0.7215189933776855},\n",
              " {'val_loss': 1.4888052940368652, 'val_acc': 0.7556368708610535},\n",
              " {'val_loss': 1.3362276554107666, 'val_acc': 0.7772942781448364},\n",
              " {'val_loss': 1.2190616130828857, 'val_acc': 0.7881724834442139}]"
            ]
          },
          "metadata": {},
          "execution_count": 131
        }
      ]
    },
    {
      "cell_type": "code",
      "source": [
        "hist2 = fit(5,0.001,model,train_loader,val_loader)\n",
        "hist"
      ],
      "metadata": {
        "colab": {
          "base_uri": "https://localhost:8080/"
        },
        "id": "s8sIHcYgCqQm",
        "outputId": "43315978-526b-4a87-e766-3bff109f7f98"
      },
      "execution_count": null,
      "outputs": [
        {
          "output_type": "stream",
          "name": "stdout",
          "text": [
            "Epoch 0,val_loss:1.1271207332611084,val_acc:0.7988528609275818\n",
            "Epoch 1,val_loss:1.053421974182129,val_acc:0.8068631291389465\n",
            "Epoch 2,val_loss:0.9931457042694092,val_acc:0.8121044039726257\n",
            "Epoch 3,val_loss:0.9430163502693176,val_acc:0.8175435066223145\n",
            "Epoch 4,val_loss:0.9006830453872681,val_acc:0.8230814933776855\n"
          ]
        },
        {
          "output_type": "execute_result",
          "data": {
            "text/plain": [
              "[{'val_loss': 1.9616382122039795, 'val_acc': 0.6157041192054749},\n",
              " {'val_loss': 1.6910977363586426, 'val_acc': 0.7215189933776855},\n",
              " {'val_loss': 1.4888052940368652, 'val_acc': 0.7556368708610535},\n",
              " {'val_loss': 1.3362276554107666, 'val_acc': 0.7772942781448364},\n",
              " {'val_loss': 1.2190616130828857, 'val_acc': 0.7881724834442139}]"
            ]
          },
          "metadata": {},
          "execution_count": 132
        }
      ]
    },
    {
      "cell_type": "code",
      "source": [
        "hist3 = fit(5,0.001,model,train_loader,val_loader)\n",
        "hist3"
      ],
      "metadata": {
        "colab": {
          "base_uri": "https://localhost:8080/"
        },
        "id": "DtByGBPkDQzW",
        "outputId": "28404125-d303-42e2-afee-564651f4e830"
      },
      "execution_count": null,
      "outputs": [
        {
          "output_type": "stream",
          "name": "stdout",
          "text": [
            "Epoch 0,val_loss:0.8644201755523682,val_acc:0.827531635761261\n",
            "Epoch 1,val_loss:0.8330211639404297,val_acc:0.8307951092720032\n",
            "Epoch 2,val_loss:0.8055475354194641,val_acc:0.8330696225166321\n",
            "Epoch 3,val_loss:0.781283974647522,val_acc:0.8355419039726257\n",
            "Epoch 4,val_loss:0.7596958875656128,val_acc:0.8378164768218994\n"
          ]
        },
        {
          "output_type": "execute_result",
          "data": {
            "text/plain": [
              "[{'val_loss': 0.8644201755523682, 'val_acc': 0.827531635761261},\n",
              " {'val_loss': 0.8330211639404297, 'val_acc': 0.8307951092720032},\n",
              " {'val_loss': 0.8055475354194641, 'val_acc': 0.8330696225166321},\n",
              " {'val_loss': 0.781283974647522, 'val_acc': 0.8355419039726257},\n",
              " {'val_loss': 0.7596958875656128, 'val_acc': 0.8378164768218994}]"
            ]
          },
          "metadata": {},
          "execution_count": 133
        }
      ]
    },
    {
      "cell_type": "code",
      "source": [
        "hist4 = fit(5,0.001,model,train_loader,val_loader)\n",
        "hist4"
      ],
      "metadata": {
        "colab": {
          "base_uri": "https://localhost:8080/"
        },
        "id": "idX4YVqODR-4",
        "outputId": "e9d55d52-9f7b-4aaf-f216-af4125d42634"
      },
      "execution_count": null,
      "outputs": [
        {
          "output_type": "stream",
          "name": "stdout",
          "text": [
            "Epoch 0,val_loss:0.7403348684310913,val_acc:0.8404865264892578\n",
            "Epoch 1,val_loss:0.7228690981864929,val_acc:0.8421677350997925\n",
            "Epoch 2,val_loss:0.7070354223251343,val_acc:0.8440466523170471\n",
            "Epoch 3,val_loss:0.6925988793373108,val_acc:0.8451344966888428\n",
            "Epoch 4,val_loss:0.6793643832206726,val_acc:0.8472112417221069\n"
          ]
        },
        {
          "output_type": "execute_result",
          "data": {
            "text/plain": [
              "[{'val_loss': 0.7403348684310913, 'val_acc': 0.8404865264892578},\n",
              " {'val_loss': 0.7228690981864929, 'val_acc': 0.8421677350997925},\n",
              " {'val_loss': 0.7070354223251343, 'val_acc': 0.8440466523170471},\n",
              " {'val_loss': 0.6925988793373108, 'val_acc': 0.8451344966888428},\n",
              " {'val_loss': 0.6793643832206726, 'val_acc': 0.8472112417221069}]"
            ]
          },
          "metadata": {},
          "execution_count": 134
        }
      ]
    },
    {
      "cell_type": "code",
      "source": [
        "img,label = test_ds[55]\n",
        "x = transformer.ToTensor()\n",
        "img = x(img)\n",
        "plt.imshow(img[0],cmap='gray')"
      ],
      "metadata": {
        "colab": {
          "base_uri": "https://localhost:8080/",
          "height": 448
        },
        "id": "C4thgoAEDfqG",
        "outputId": "adb0a921-246b-4e05-f5d2-7893902c0646"
      },
      "execution_count": null,
      "outputs": [
        {
          "output_type": "execute_result",
          "data": {
            "text/plain": [
              "<matplotlib.image.AxesImage at 0x78bf9a24fe50>"
            ]
          },
          "metadata": {},
          "execution_count": 135
        },
        {
          "output_type": "display_data",
          "data": {
            "text/plain": [
              "<Figure size 640x480 with 1 Axes>"
            ],
            "image/png": "[encoded data removed]"
          },
          "metadata": {}
        }
      ]
    },
    {
      "cell_type": "code",
      "source": [
        "img.unsqueeze(0).shape"
      ],
      "metadata": {
        "colab": {
          "base_uri": "https://localhost:8080/"
        },
        "id": "cs2cgDR7Dnim",
        "outputId": "3f613577-a54c-4e89-fb69-236d316c6057"
      },
      "execution_count": null,
      "outputs": [
        {
          "output_type": "execute_result",
          "data": {
            "text/plain": [
              "torch.Size([1, 1, 28, 28])"
            ]
          },
          "metadata": {},
          "execution_count": 136
        }
      ]
    },
    {
      "cell_type": "code",
      "source": [
        "def predict(img,model):\n",
        "  #plt.imshow(img[0],cmap='gray')\n",
        "  xb = img[0].unsqueeze(0)\n",
        "  yb = model(xb)\n",
        "  _,preds = torch.max(yb,dim=1)\n",
        "  return preds[0].item()"
      ],
      "metadata": {
        "id": "wcpOY0CnDuk3"
      },
      "execution_count": null,
      "outputs": []
    },
    {
      "cell_type": "code",
      "source": [
        "predict(img,model)"
      ],
      "metadata": {
        "colab": {
          "base_uri": "https://localhost:8080/"
        },
        "id": "AglLCQJ_EjXG",
        "outputId": "2ee307b7-f2d6-4e49-a285-ba1eaaece76d"
      },
      "execution_count": null,
      "outputs": [
        {
          "output_type": "execute_result",
          "data": {
            "text/plain": [
              "7"
            ]
          },
          "metadata": {},
          "execution_count": 160
        }
      ]
    },
    {
      "cell_type": "code",
      "source": [
        "test_ds = MNIST(root='data/',train=False,transform=transformer.ToTensor())"
      ],
      "metadata": {
        "id": "1ItnQSAfFh81"
      },
      "execution_count": null,
      "outputs": []
    },
    {
      "cell_type": "code",
      "source": [
        "corr_preds = 0\n",
        "total = 0\n",
        "for img,label in test_ds:\n",
        "  pred = predict(img,model)\n",
        "  if pred == label:\n",
        "    corr_preds += 1\n",
        "  total += 1"
      ],
      "metadata": {
        "id": "SGAHiGWFJ2xE"
      },
      "execution_count": null,
      "outputs": []
    },
    {
      "cell_type": "code",
      "source": [
        "acc corr_preds/total"
      ],
      "metadata": {
        "colab": {
          "base_uri": "https://localhost:8080/"
        },
        "id": "UlD1-l5KMLyj",
        "outputId": "a939f2be-782a-4b3c-dd1b-184534c134bf"
      },
      "execution_count": null,
      "outputs": [
        {
          "output_type": "execute_result",
          "data": {
            "text/plain": [
              "0.8619"
            ]
          },
          "metadata": {},
          "execution_count": 163
        }
      ]
    },
    {
      "cell_type": "code",
      "source": [],
      "metadata": {
        "id": "aXjbX2KqNIYj"
      },
      "execution_count": null,
      "outputs": []
    }
  ]
}